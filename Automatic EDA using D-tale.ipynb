{
 "cells": [
  {
   "cell_type": "markdown",
   "metadata": {},
   "source": [
    "# Auto EDA analysis\n",
    "\n",
    "**Dtale**"
   ]
  },
  {
   "cell_type": "markdown",
   "metadata": {},
   "source": [
    "# The Dtale library generates a report having:\n",
    "\n",
    "An overview of the dataset\n",
    "\n",
    "highlites  Data visals\n",
    "\n",
    "view & analyze\n",
    "\n",
    "DataFrame, Series, MultiIndex, DatetimeIndex & RangeIndex\n",
    "\n",
    "Interaction of variables\n",
    "\n",
    "Correlation of variables\n",
    "\n",
    "this library produces detail information with all anaysis ,charts, ratio tables etc.,"
   ]
  },
  {
   "cell_type": "code",
   "execution_count": 5,
   "metadata": {
    "scrolled": true
   },
   "outputs": [
    {
     "name": "stdout",
     "output_type": "stream",
     "text": [
      "Requirement already satisfied: dtale in c:\\users\\giri prasad\\anaconda3\\lib\\site-packages (1.46.0)\n",
      "Requirement already satisfied: itsdangerous in c:\\users\\giri prasad\\anaconda3\\lib\\site-packages (from dtale) (1.1.0)\n",
      "Requirement already satisfied: nbformat in c:\\users\\giri prasad\\anaconda3\\lib\\site-packages (from dtale) (5.0.8)\n",
      "Requirement already satisfied: strsimpy in c:\\users\\giri prasad\\anaconda3\\lib\\site-packages (from dtale) (0.2.0)\n",
      "Requirement already satisfied: statsmodels; python_version > \"3.0\" in c:\\users\\giri prasad\\anaconda3\\lib\\site-packages (from dtale) (0.12.0)\n",
      "Requirement already satisfied: scipy in c:\\users\\giri prasad\\anaconda3\\lib\\site-packages (from dtale) (1.5.2)\n",
      "Requirement already satisfied: six in c:\\users\\giri prasad\\anaconda3\\lib\\site-packages (from dtale) (1.15.0)\n",
      "Requirement already satisfied: Flask>=1.0 in c:\\users\\giri prasad\\anaconda3\\lib\\site-packages (from dtale) (1.1.2)\n",
      "Requirement already satisfied: pandas in c:\\users\\giri prasad\\anaconda3\\lib\\site-packages (from dtale) (1.1.3)\n",
      "Requirement already satisfied: networkx; python_version >= \"3.0\" in c:\\users\\giri prasad\\anaconda3\\lib\\site-packages (from dtale) (2.5)\n",
      "Requirement already satisfied: scikit-learn in c:\\users\\giri prasad\\anaconda3\\lib\\site-packages (from dtale) (0.23.2)\n",
      "Requirement already satisfied: squarify in c:\\users\\giri prasad\\anaconda3\\lib\\site-packages (from dtale) (0.4.3)\n",
      "Requirement already satisfied: kaleido; python_version > \"3.6\" in c:\\users\\giri prasad\\anaconda3\\lib\\site-packages (from dtale) (0.2.1)\n",
      "Requirement already satisfied: requests in c:\\users\\giri prasad\\anaconda3\\lib\\site-packages (from dtale) (2.24.0)\n",
      "Requirement already satisfied: missingno in c:\\users\\giri prasad\\anaconda3\\lib\\site-packages (from dtale) (0.4.2)\n",
      "Requirement already satisfied: dash-bootstrap-components; python_version > \"3.0\" in c:\\users\\giri prasad\\anaconda3\\lib\\site-packages (from dtale) (0.12.2)\n",
      "Requirement already satisfied: dash>=1.5.0 in c:\\users\\giri prasad\\anaconda3\\lib\\site-packages (from dtale) (1.20.0)\n",
      "Requirement already satisfied: dash-daq in c:\\users\\giri prasad\\anaconda3\\lib\\site-packages (from dtale) (0.5.0)\n",
      "Requirement already satisfied: dash-colorscales in c:\\users\\giri prasad\\anaconda3\\lib\\site-packages (from dtale) (0.0.4)\n",
      "Requirement already satisfied: Flask-Compress in c:\\users\\giri prasad\\anaconda3\\lib\\site-packages (from dtale) (1.9.0)\n",
      "Requirement already satisfied: xarray; python_version >= \"3.0\" in c:\\users\\giri prasad\\anaconda3\\lib\\site-packages (from dtale) (0.18.0)\n",
      "Requirement already satisfied: plotly>=4.9.0 in c:\\users\\giri prasad\\anaconda3\\lib\\site-packages (from dtale) (4.14.3)\n",
      "Requirement already satisfied: openpyxl; python_version >= \"3.0\" in c:\\users\\giri prasad\\anaconda3\\lib\\site-packages (from dtale) (3.0.5)\n",
      "Requirement already satisfied: future>=0.14.0 in c:\\users\\giri prasad\\anaconda3\\lib\\site-packages (from dtale) (0.18.2)\n",
      "Requirement already satisfied: ppscore; python_version >= \"3.6\" in c:\\users\\giri prasad\\anaconda3\\lib\\site-packages (from dtale) (1.2.0)\n",
      "Requirement already satisfied: xlrd in c:\\users\\giri prasad\\anaconda3\\lib\\site-packages (from dtale) (1.2.0)\n",
      "Requirement already satisfied: lz4; python_version > \"3.0\" in c:\\users\\giri prasad\\anaconda3\\lib\\site-packages (from dtale) (3.1.3)\n",
      "Requirement already satisfied: et-xmlfile; python_version >= \"3.6\" in c:\\users\\giri prasad\\anaconda3\\lib\\site-packages (from dtale) (1.0.1)\n",
      "Requirement already satisfied: flask-ngrok; python_version > \"3.0\" in c:\\users\\giri prasad\\anaconda3\\lib\\site-packages (from dtale) (0.0.25)\n",
      "Requirement already satisfied: seaborn; python_version >= \"3.6\" in c:\\users\\giri prasad\\anaconda3\\lib\\site-packages (from dtale) (0.11.0)\n",
      "Requirement already satisfied: jupyter-core in c:\\users\\giri prasad\\anaconda3\\lib\\site-packages (from nbformat->dtale) (4.6.3)\n",
      "Requirement already satisfied: jsonschema!=2.5.0,>=2.4 in c:\\users\\giri prasad\\anaconda3\\lib\\site-packages (from nbformat->dtale) (3.2.0)\n",
      "Requirement already satisfied: ipython-genutils in c:\\users\\giri prasad\\anaconda3\\lib\\site-packages (from nbformat->dtale) (0.2.0)\n",
      "Requirement already satisfied: traitlets>=4.1 in c:\\users\\giri prasad\\anaconda3\\lib\\site-packages (from nbformat->dtale) (5.0.5)\n",
      "Requirement already satisfied: numpy>=1.15 in c:\\users\\giri prasad\\anaconda3\\lib\\site-packages (from statsmodels; python_version > \"3.0\"->dtale) (1.19.2)\n",
      "Requirement already satisfied: patsy>=0.5 in c:\\users\\giri prasad\\anaconda3\\lib\\site-packages (from statsmodels; python_version > \"3.0\"->dtale) (0.5.1)\n",
      "Requirement already satisfied: click>=5.1 in c:\\users\\giri prasad\\anaconda3\\lib\\site-packages (from Flask>=1.0->dtale) (7.1.2)\n",
      "Requirement already satisfied: Jinja2>=2.10.1 in c:\\users\\giri prasad\\anaconda3\\lib\\site-packages (from Flask>=1.0->dtale) (2.11.2)\n",
      "Requirement already satisfied: Werkzeug>=0.15 in c:\\users\\giri prasad\\anaconda3\\lib\\site-packages (from Flask>=1.0->dtale) (1.0.1)\n",
      "Requirement already satisfied: python-dateutil>=2.7.3 in c:\\users\\giri prasad\\anaconda3\\lib\\site-packages (from pandas->dtale) (2.8.1)\n",
      "Requirement already satisfied: pytz>=2017.2 in c:\\users\\giri prasad\\anaconda3\\lib\\site-packages (from pandas->dtale) (2020.1)\n",
      "Requirement already satisfied: decorator>=4.3.0 in c:\\users\\giri prasad\\anaconda3\\lib\\site-packages (from networkx; python_version >= \"3.0\"->dtale) (4.4.2)\n",
      "Requirement already satisfied: joblib>=0.11 in c:\\users\\giri prasad\\anaconda3\\lib\\site-packages (from scikit-learn->dtale) (0.17.0)\n",
      "Requirement already satisfied: threadpoolctl>=2.0.0 in c:\\users\\giri prasad\\anaconda3\\lib\\site-packages (from scikit-learn->dtale) (2.1.0)\n",
      "Requirement already satisfied: chardet<4,>=3.0.2 in c:\\users\\giri prasad\\anaconda3\\lib\\site-packages (from requests->dtale) (3.0.4)\n",
      "Requirement already satisfied: urllib3!=1.25.0,!=1.25.1,<1.26,>=1.21.1 in c:\\users\\giri prasad\\anaconda3\\lib\\site-packages (from requests->dtale) (1.25.11)\n",
      "Requirement already satisfied: certifi>=2017.4.17 in c:\\users\\giri prasad\\anaconda3\\lib\\site-packages (from requests->dtale) (2020.6.20)\n",
      "Requirement already satisfied: idna<3,>=2.5 in c:\\users\\giri prasad\\anaconda3\\lib\\site-packages (from requests->dtale) (2.10)\n",
      "Requirement already satisfied: matplotlib in c:\\users\\giri prasad\\anaconda3\\lib\\site-packages (from missingno->dtale) (3.3.2)\n",
      "Requirement already satisfied: dash-renderer==1.9.1 in c:\\users\\giri prasad\\anaconda3\\lib\\site-packages (from dash>=1.5.0->dtale) (1.9.1)\n",
      "Requirement already satisfied: dash-core-components==1.16.0 in c:\\users\\giri prasad\\anaconda3\\lib\\site-packages (from dash>=1.5.0->dtale) (1.16.0)\n",
      "Requirement already satisfied: dash-table==4.11.3 in c:\\users\\giri prasad\\anaconda3\\lib\\site-packages (from dash>=1.5.0->dtale) (4.11.3)\n",
      "Requirement already satisfied: dash-html-components==1.1.3 in c:\\users\\giri prasad\\anaconda3\\lib\\site-packages (from dash>=1.5.0->dtale) (1.1.3)\n",
      "Requirement already satisfied: brotli in c:\\users\\giri prasad\\anaconda3\\lib\\site-packages (from Flask-Compress->dtale) (1.0.9)\n",
      "Requirement already satisfied: setuptools>=40.4 in c:\\users\\giri prasad\\anaconda3\\lib\\site-packages (from xarray; python_version >= \"3.0\"->dtale) (50.3.1.post20201107)\n",
      "Requirement already satisfied: retrying>=1.3.3 in c:\\users\\giri prasad\\anaconda3\\lib\\site-packages (from plotly>=4.9.0->dtale) (1.3.3)\n",
      "Requirement already satisfied: jdcal in c:\\users\\giri prasad\\anaconda3\\lib\\site-packages (from openpyxl; python_version >= \"3.0\"->dtale) (1.4.1)\n",
      "Requirement already satisfied: pywin32>=1.0; sys_platform == \"win32\" in c:\\users\\giri prasad\\anaconda3\\lib\\site-packages (from jupyter-core->nbformat->dtale) (227)\n",
      "Requirement already satisfied: attrs>=17.4.0 in c:\\users\\giri prasad\\anaconda3\\lib\\site-packages (from jsonschema!=2.5.0,>=2.4->nbformat->dtale) (20.3.0)\n",
      "Requirement already satisfied: pyrsistent>=0.14.0 in c:\\users\\giri prasad\\anaconda3\\lib\\site-packages (from jsonschema!=2.5.0,>=2.4->nbformat->dtale) (0.17.3)\n",
      "Requirement already satisfied: MarkupSafe>=0.23 in c:\\users\\giri prasad\\anaconda3\\lib\\site-packages (from Jinja2>=2.10.1->Flask>=1.0->dtale) (1.1.1)\n",
      "Requirement already satisfied: kiwisolver>=1.0.1 in c:\\users\\giri prasad\\anaconda3\\lib\\site-packages (from matplotlib->missingno->dtale) (1.3.0)\n",
      "Requirement already satisfied: cycler>=0.10 in c:\\users\\giri prasad\\anaconda3\\lib\\site-packages (from matplotlib->missingno->dtale) (0.10.0)\n",
      "Requirement already satisfied: pillow>=6.2.0 in c:\\users\\giri prasad\\anaconda3\\lib\\site-packages (from matplotlib->missingno->dtale) (8.0.1)\n",
      "Requirement already satisfied: pyparsing!=2.0.4,!=2.1.2,!=2.1.6,>=2.0.3 in c:\\users\\giri prasad\\anaconda3\\lib\\site-packages (from matplotlib->missingno->dtale) (2.4.7)\n"
     ]
    }
   ],
   "source": [
    "#installation \n",
    "#using pip\n",
    "!pip install dtale\n",
    "\n",
    "# we can also install \n",
    "#Using conda\n",
    "#conda install dtale -c conda-forge\n",
    "# if you want to also use \"Export to PNG\" for charts\n",
    "#conda install -c plotly python-kaleido"
   ]
  },
  {
   "cell_type": "code",
   "execution_count": 8,
   "metadata": {},
   "outputs": [],
   "source": [
    "#import library \n",
    "import dtale"
   ]
  },
  {
   "cell_type": "code",
   "execution_count": 11,
   "metadata": {},
   "outputs": [
    {
     "data": {
      "text/plain": [
       "['anagrams',\n",
       " 'anscombe',\n",
       " 'attention',\n",
       " 'brain_networks',\n",
       " 'car_crashes',\n",
       " 'diamonds',\n",
       " 'dots',\n",
       " 'exercise',\n",
       " 'flights',\n",
       " 'fmri',\n",
       " 'gammas',\n",
       " 'geyser',\n",
       " 'iris',\n",
       " 'mpg',\n",
       " 'penguins',\n",
       " 'planets',\n",
       " 'tips',\n",
       " 'titanic']"
      ]
     },
     "execution_count": 11,
     "metadata": {},
     "output_type": "execute_result"
    }
   ],
   "source": [
    "#loading data set\n",
    "import seaborn as sns\n",
    "sns.get_dataset_names()"
   ]
  },
  {
   "cell_type": "code",
   "execution_count": 13,
   "metadata": {},
   "outputs": [
    {
     "data": {
      "text/html": [
       "<div>\n",
       "<style scoped>\n",
       "    .dataframe tbody tr th:only-of-type {\n",
       "        vertical-align: middle;\n",
       "    }\n",
       "\n",
       "    .dataframe tbody tr th {\n",
       "        vertical-align: top;\n",
       "    }\n",
       "\n",
       "    .dataframe thead th {\n",
       "        text-align: right;\n",
       "    }\n",
       "</style>\n",
       "<table border=\"1\" class=\"dataframe\">\n",
       "  <thead>\n",
       "    <tr style=\"text-align: right;\">\n",
       "      <th></th>\n",
       "      <th>sepal_length</th>\n",
       "      <th>sepal_width</th>\n",
       "      <th>petal_length</th>\n",
       "      <th>petal_width</th>\n",
       "      <th>species</th>\n",
       "    </tr>\n",
       "  </thead>\n",
       "  <tbody>\n",
       "    <tr>\n",
       "      <th>0</th>\n",
       "      <td>5.1</td>\n",
       "      <td>3.5</td>\n",
       "      <td>1.4</td>\n",
       "      <td>0.2</td>\n",
       "      <td>setosa</td>\n",
       "    </tr>\n",
       "    <tr>\n",
       "      <th>1</th>\n",
       "      <td>4.9</td>\n",
       "      <td>3.0</td>\n",
       "      <td>1.4</td>\n",
       "      <td>0.2</td>\n",
       "      <td>setosa</td>\n",
       "    </tr>\n",
       "    <tr>\n",
       "      <th>2</th>\n",
       "      <td>4.7</td>\n",
       "      <td>3.2</td>\n",
       "      <td>1.3</td>\n",
       "      <td>0.2</td>\n",
       "      <td>setosa</td>\n",
       "    </tr>\n",
       "    <tr>\n",
       "      <th>3</th>\n",
       "      <td>4.6</td>\n",
       "      <td>3.1</td>\n",
       "      <td>1.5</td>\n",
       "      <td>0.2</td>\n",
       "      <td>setosa</td>\n",
       "    </tr>\n",
       "    <tr>\n",
       "      <th>4</th>\n",
       "      <td>5.0</td>\n",
       "      <td>3.6</td>\n",
       "      <td>1.4</td>\n",
       "      <td>0.2</td>\n",
       "      <td>setosa</td>\n",
       "    </tr>\n",
       "  </tbody>\n",
       "</table>\n",
       "</div>"
      ],
      "text/plain": [
       "   sepal_length  sepal_width  petal_length  petal_width species\n",
       "0           5.1          3.5           1.4          0.2  setosa\n",
       "1           4.9          3.0           1.4          0.2  setosa\n",
       "2           4.7          3.2           1.3          0.2  setosa\n",
       "3           4.6          3.1           1.5          0.2  setosa\n",
       "4           5.0          3.6           1.4          0.2  setosa"
      ]
     },
     "execution_count": 13,
     "metadata": {},
     "output_type": "execute_result"
    }
   ],
   "source": [
    "#load iris dataset\n",
    "iris = sns.load_dataset(\"iris\")\n",
    "iris.head()"
   ]
  },
  {
   "cell_type": "code",
   "execution_count": 14,
   "metadata": {},
   "outputs": [
    {
     "name": "stderr",
     "output_type": "stream",
     "text": [
      "2021-05-16 17:01:00,660 - INFO     - NumExpr defaulting to 2 threads.\n"
     ]
    },
    {
     "data": {
      "text/html": [
       "\n",
       "        <iframe\n",
       "            width=\"100%\"\n",
       "            height=\"475\"\n",
       "            src=\"http://DESKTOP-L058KV9:40000/dtale/iframe/1\"\n",
       "            frameborder=\"0\"\n",
       "            allowfullscreen\n",
       "        ></iframe>\n",
       "        "
      ],
      "text/plain": [
       "<IPython.lib.display.IFrame at 0x183bb67fc70>"
      ]
     },
     "metadata": {},
     "output_type": "display_data"
    },
    {
     "data": {
      "text/plain": []
     },
     "execution_count": 14,
     "metadata": {},
     "output_type": "execute_result"
    }
   ],
   "source": [
    "#to generate refernce\n",
    "#windows will ask for setup permissions \n",
    "dtale.show(iris)"
   ]
  },
  {
   "cell_type": "code",
   "execution_count": null,
   "metadata": {},
   "outputs": [],
   "source": []
  }
 ],
 "metadata": {
  "kernelspec": {
   "display_name": "Python 3",
   "language": "python",
   "name": "python3"
  },
  "language_info": {
   "codemirror_mode": {
    "name": "ipython",
    "version": 3
   },
   "file_extension": ".py",
   "mimetype": "text/x-python",
   "name": "python",
   "nbconvert_exporter": "python",
   "pygments_lexer": "ipython3",
   "version": "3.8.5"
  }
 },
 "nbformat": 4,
 "nbformat_minor": 4
}
